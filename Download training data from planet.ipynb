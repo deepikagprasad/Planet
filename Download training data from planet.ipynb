{
 "cells": [
  {
   "cell_type": "code",
   "execution_count": 2,
   "metadata": {},
   "outputs": [
    {
     "name": "stdout",
     "output_type": "stream",
     "text": [
      "active\n"
     ]
    },
    {
     "data": {
      "text/plain": [
       "<osgeo.gdal.Dataset; proxy of <Swig Object of type 'GDALDatasetShadow *' at 0x000000000C4A62D0> >"
      ]
     },
     "execution_count": 2,
     "metadata": {},
     "output_type": "execute_result"
    }
   ],
   "source": [
    "from osgeo import gdal\n",
    "from requests.auth import HTTPBasicAuth\n",
    "import os\n",
    "import requests\n",
    "from planet.api.auth import find_api_key\n",
    "\n",
    "# API Key stored as an env variable\n",
    "PLANET_API_KEY = find_api_key()\n",
    "\n",
    "#use the asset id you would like to download in item_id \n",
    "item_id = \"20181126_050542_0f3d\"\n",
    "\n",
    "#specify the scene type - https://developers.planet.com/docs/api/items-assets/\n",
    "item_type = \"PSScene4Band\"\n",
    "\n",
    "#use the appropriate asset_type depending on your scene type\n",
    "#https://gis.stackexchange.com/questions/178251/whats-the-difference-between-the-analytic-and-visual-images-available-through-t\n",
    "asset_type = \"analytic\" \n",
    "item_url = 'https://api.planet.com/data/v1/item-types/{}/items/{}/assets'.format(item_type, item_id)\n",
    "\n",
    "# Request a new download URL\n",
    "result = requests.get(item_url, auth=HTTPBasicAuth(PLANET_API_KEY, ''))\n",
    "print(result.json()['analytic']['status'])\n",
    "download_url = result.json()[asset_type]['location']\n",
    "\n",
    "vsicurl_url = '/vsicurl/' + download_url\n",
    "\n",
    "#set the output file name\n",
    "output_file = item_id + '_subarea.tif'\n",
    "\n",
    "# use gdal warp command to download only the subarea you saved as a geojsonfile\n",
    "gdal.Warp(output_file, vsicurl_url, dstSRS = 'EPSG:4326', cutlineDSName = 'subarea.geojson', cropToCutline = True)"
   ]
  },
  {
   "cell_type": "code",
   "execution_count": null,
   "metadata": {},
   "outputs": [],
   "source": []
  },
  {
   "cell_type": "code",
   "execution_count": null,
   "metadata": {},
   "outputs": [],
   "source": []
  },
  {
   "cell_type": "code",
   "execution_count": null,
   "metadata": {},
   "outputs": [],
   "source": []
  }
 ],
 "metadata": {
  "kernelspec": {
   "display_name": "Python 2",
   "language": "python",
   "name": "python2"
  },
  "language_info": {
   "codemirror_mode": {
    "name": "ipython",
    "version": 2
   },
   "file_extension": ".py",
   "mimetype": "text/x-python",
   "name": "python",
   "nbconvert_exporter": "python",
   "pygments_lexer": "ipython2",
   "version": "2.7.15"
  }
 },
 "nbformat": 4,
 "nbformat_minor": 2
}
